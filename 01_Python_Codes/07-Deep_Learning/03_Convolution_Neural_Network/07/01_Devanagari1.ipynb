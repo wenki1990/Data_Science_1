{
 "cells": [
  {
   "cell_type": "code",
   "execution_count": 1,
   "metadata": {
    "collapsed": true
   },
   "outputs": [],
   "source": [
    "import os"
   ]
  },
  {
   "cell_type": "code",
   "execution_count": 2,
   "metadata": {},
   "outputs": [
    {
     "data": {
      "text/plain": [
       "'C:\\\\Users\\\\HP\\\\python\\\\Devanagiri'"
      ]
     },
     "execution_count": 2,
     "metadata": {},
     "output_type": "execute_result"
    }
   ],
   "source": [
    "os.getcwd()"
   ]
  },
  {
   "cell_type": "code",
   "execution_count": 3,
   "metadata": {
    "collapsed": true
   },
   "outputs": [],
   "source": [
    "#path to train data\n",
    "train_path = 'C:\\\\Users\\\\HP\\\\Downloads\\\\DevanagariHandwrittenCharacterDataset\\\\Train'"
   ]
  },
  {
   "cell_type": "code",
   "execution_count": 4,
   "metadata": {
    "collapsed": true
   },
   "outputs": [],
   "source": [
    "#path to test data\n",
    "test_path = 'C:\\\\Users\\\\HP\\\\Downloads\\\\DevanagariHandwrittenCharacterDataset\\\\Test'"
   ]
  },
  {
   "cell_type": "code",
   "execution_count": 5,
   "metadata": {},
   "outputs": [
    {
     "name": "stderr",
     "output_type": "stream",
     "text": [
      "Using TensorFlow backend.\n"
     ]
    }
   ],
   "source": [
    "import keras"
   ]
  },
  {
   "cell_type": "code",
   "execution_count": 6,
   "metadata": {
    "collapsed": true
   },
   "outputs": [],
   "source": [
    "from keras.preprocessing.image import ImageDataGenerator"
   ]
  },
  {
   "cell_type": "code",
   "execution_count": 8,
   "metadata": {},
   "outputs": [
    {
     "name": "stdout",
     "output_type": "stream",
     "text": [
      "Found 78200 images belonging to 46 classes.\n"
     ]
    }
   ],
   "source": [
    "#Creating a generator that generates data from specified path, rescaling is normalizing the pixel values\n",
    "train_generator = ImageDataGenerator(rescale = 1.0/255).flow_from_directory(train_path,target_size = (32,32),batch_size = 78200,color_mode = 'grayscale')"
   ]
  },
  {
   "cell_type": "code",
   "execution_count": 9,
   "metadata": {
    "collapsed": true
   },
   "outputs": [],
   "source": [
    "#Dumping data onto X_train and y_train\n",
    "X_train,y_train = next(train_generator)"
   ]
  },
  {
   "cell_type": "code",
   "execution_count": 10,
   "metadata": {},
   "outputs": [
    {
     "data": {
      "text/plain": [
       "(78200, 32, 32, 1)"
      ]
     },
     "execution_count": 10,
     "metadata": {},
     "output_type": "execute_result"
    }
   ],
   "source": [
    "X_train.shape"
   ]
  },
  {
   "cell_type": "code",
   "execution_count": 11,
   "metadata": {},
   "outputs": [
    {
     "data": {
      "text/plain": [
       "(78200, 46)"
      ]
     },
     "execution_count": 11,
     "metadata": {},
     "output_type": "execute_result"
    }
   ],
   "source": [
    "y_train.shape"
   ]
  },
  {
   "cell_type": "code",
   "execution_count": 12,
   "metadata": {},
   "outputs": [
    {
     "data": {
      "text/plain": [
       "array([0., 0., 0., 0., 0., 0., 0., 0., 0., 0., 0., 0., 0., 0., 0., 0., 0.,\n",
       "       0., 0., 0., 0., 0., 0., 0., 0., 0., 0., 0., 0., 0., 0., 0., 0., 0.,\n",
       "       0., 0., 0., 0., 0., 0., 0., 0., 1., 0., 0., 0.], dtype=float32)"
      ]
     },
     "execution_count": 12,
     "metadata": {},
     "output_type": "execute_result"
    }
   ],
   "source": [
    "y_train[0]"
   ]
  },
  {
   "cell_type": "code",
   "execution_count": 13,
   "metadata": {},
   "outputs": [
    {
     "name": "stdout",
     "output_type": "stream",
     "text": [
      "Found 13800 images belonging to 46 classes.\n"
     ]
    }
   ],
   "source": [
    "test_generator = ImageDataGenerator(rescale = 1.0/255).flow_from_directory(test_path,target_size = (32,32),batch_size = 13800,color_mode = 'grayscale')"
   ]
  },
  {
   "cell_type": "code",
   "execution_count": 14,
   "metadata": {
    "collapsed": true
   },
   "outputs": [],
   "source": [
    "X_test,y_test = next(test_generator)"
   ]
  },
  {
   "cell_type": "code",
   "execution_count": 15,
   "metadata": {
    "collapsed": true
   },
   "outputs": [],
   "source": [
    "from keras.models import Sequential\n",
    "from keras.layers import Conv2D,Activation,MaxPooling2D,Dropout,Flatten,Dense"
   ]
  },
  {
   "cell_type": "code",
   "execution_count": 44,
   "metadata": {
    "collapsed": true
   },
   "outputs": [],
   "source": [
    "del model"
   ]
  },
  {
   "cell_type": "code",
   "execution_count": 45,
   "metadata": {
    "collapsed": true
   },
   "outputs": [],
   "source": [
    "#Building a CNN\n",
    "model = Sequential()"
   ]
  },
  {
   "cell_type": "code",
   "execution_count": 46,
   "metadata": {},
   "outputs": [],
   "source": [
    "#Conv2D->MaxPooling2D->Conv2D->MaxPooling2D->Flatten->Hidden Layer(512 neurons)->Output layer\n",
    "model.add(Conv2D(32,(5,5),input_shape = X_train.shape[1:]))\n",
    "model.add(Activation('relu'))\n",
    "model.add(MaxPooling2D(pool_size = (2,2)))\n",
    "model.add(Dropout(0.25))\n",
    "model.add(Conv2D(32,(5,5)))\n",
    "model.add(Activation('relu'))\n",
    "model.add(MaxPooling2D(pool_size = (2,2)))\n",
    "model.add(Dropout(0.25))\n",
    "model.add(Flatten())\n",
    "model.add(Dense(512))\n",
    "model.add(Activation('relu'))\n",
    "model.add(Dropout(0.5))\n",
    "model.add(Dense(46,activation = 'softmax'))"
   ]
  },
  {
   "cell_type": "code",
   "execution_count": 47,
   "metadata": {
    "collapsed": true
   },
   "outputs": [],
   "source": [
    "model.compile(loss='categorical_crossentropy',\\\n",
    "              optimizer='adam',\\\n",
    "              metrics=['accuracy'])"
   ]
  },
  {
   "cell_type": "code",
   "execution_count": 48,
   "metadata": {},
   "outputs": [
    {
     "name": "stdout",
     "output_type": "stream",
     "text": [
      "Epoch 1/10\n",
      "78200/78200 [==============================] - 204s 3ms/step - loss: 0.7503 - acc: 0.7819\n",
      "Epoch 2/10\n",
      "78200/78200 [==============================] - 207s 3ms/step - loss: 0.2712 - acc: 0.9157\n",
      "Epoch 3/10\n",
      "78200/78200 [==============================] - 217s 3ms/step - loss: 0.2023 - acc: 0.9361\n",
      "Epoch 4/10\n",
      "78200/78200 [==============================] - 216s 3ms/step - loss: 0.1673 - acc: 0.9459\n",
      "Epoch 5/10\n",
      "78200/78200 [==============================] - 213s 3ms/step - loss: 0.1482 - acc: 0.9528\n",
      "Epoch 6/10\n",
      "78200/78200 [==============================] - 222s 3ms/step - loss: 0.1305 - acc: 0.9584\n",
      "Epoch 7/10\n",
      "78200/78200 [==============================] - 215s 3ms/step - loss: 0.1258 - acc: 0.9599\n",
      "Epoch 8/10\n",
      "78200/78200 [==============================] - 198s 3ms/step - loss: 0.1142 - acc: 0.9645\n",
      "Epoch 9/10\n",
      "78200/78200 [==============================] - 197s 3ms/step - loss: 0.1097 - acc: 0.9655\n",
      "Epoch 10/10\n",
      "78200/78200 [==============================] - 209s 3ms/step - loss: 0.1043 - acc: 0.9670\n"
     ]
    },
    {
     "data": {
      "text/plain": [
       "<keras.callbacks.History at 0x240167e2898>"
      ]
     },
     "execution_count": 48,
     "metadata": {},
     "output_type": "execute_result"
    }
   ],
   "source": [
    "model.fit(X_train,y_train,batch_size = 32,epochs = 10)"
   ]
  },
  {
   "cell_type": "code",
   "execution_count": 49,
   "metadata": {
    "collapsed": true
   },
   "outputs": [],
   "source": [
    "#predicting on test data\n",
    "preds = model.predict(X_test)"
   ]
  },
  {
   "cell_type": "code",
   "execution_count": 50,
   "metadata": {},
   "outputs": [
    {
     "data": {
      "text/plain": [
       "(13800, 46)"
      ]
     },
     "execution_count": 50,
     "metadata": {},
     "output_type": "execute_result"
    }
   ],
   "source": [
    "preds.shape"
   ]
  },
  {
   "cell_type": "code",
   "execution_count": 51,
   "metadata": {},
   "outputs": [
    {
     "data": {
      "text/plain": [
       "array([1.4736198e-11, 9.6911053e-13, 1.1021004e-10, 1.3900519e-12,\n",
       "       7.8320288e-11, 6.3125487e-13, 2.6825338e-13, 1.6581562e-06,\n",
       "       1.0295920e-12, 1.0062757e-05, 1.8091343e-13, 1.8641826e-09,\n",
       "       1.5123224e-11, 1.1474219e-15, 7.1987012e-09, 2.9649849e-11,\n",
       "       1.6275596e-14, 4.2756636e-08, 1.2943002e-08, 2.2941449e-11,\n",
       "       1.6100847e-07, 3.4808980e-13, 5.0364521e-09, 4.8332805e-14,\n",
       "       2.3501789e-12, 5.3766588e-12, 1.6444128e-10, 2.6349276e-09,\n",
       "       4.0802361e-10, 2.3556654e-10, 9.3736007e-06, 1.3203189e-12,\n",
       "       9.9997866e-01, 9.8034680e-10, 2.3793545e-10, 2.8640501e-14,\n",
       "       2.5405317e-10, 2.3008998e-13, 8.8057446e-09, 3.2856717e-11,\n",
       "       8.2815252e-14, 3.3990330e-12, 1.6201256e-11, 1.2199087e-11,\n",
       "       5.5335646e-15, 5.0803892e-13], dtype=float32)"
      ]
     },
     "execution_count": 51,
     "metadata": {},
     "output_type": "execute_result"
    }
   ],
   "source": [
    "preds[0]"
   ]
  },
  {
   "cell_type": "code",
   "execution_count": 52,
   "metadata": {
    "collapsed": true
   },
   "outputs": [],
   "source": [
    "#Converting predictions into 0 and 1 with a cut-off of 0.5\n",
    "for i in range(13800):\n",
    "    for j in range(46):\n",
    "        if preds[i][j]>=0.5:\n",
    "            preds[i][j] = 1\n",
    "        else:\n",
    "            preds[i][j] = 0"
   ]
  },
  {
   "cell_type": "code",
   "execution_count": 53,
   "metadata": {},
   "outputs": [
    {
     "data": {
      "text/plain": [
       "array([0., 0., 0., 0., 0., 0., 0., 0., 0., 0., 0., 0., 0., 0., 0., 0., 0.,\n",
       "       0., 0., 0., 0., 0., 0., 0., 0., 0., 0., 0., 0., 0., 0., 0., 1., 0.,\n",
       "       0., 0., 0., 0., 0., 0., 0., 0., 0., 0., 0., 0.], dtype=float32)"
      ]
     },
     "execution_count": 53,
     "metadata": {},
     "output_type": "execute_result"
    }
   ],
   "source": [
    "preds[0]"
   ]
  },
  {
   "cell_type": "code",
   "execution_count": 54,
   "metadata": {
    "collapsed": true
   },
   "outputs": [],
   "source": [
    "from sklearn.metrics import accuracy_score"
   ]
  },
  {
   "cell_type": "code",
   "execution_count": 55,
   "metadata": {},
   "outputs": [
    {
     "data": {
      "text/plain": [
       "0.983768115942029"
      ]
     },
     "execution_count": 55,
     "metadata": {},
     "output_type": "execute_result"
    }
   ],
   "source": [
    "#accuracy of our model on test data\n",
    "accuracy_score(preds,y_test)"
   ]
  },
  {
   "cell_type": "code",
   "execution_count": 56,
   "metadata": {
    "collapsed": true
   },
   "outputs": [],
   "source": [
    "#predicting on train data\n",
    "train_preds = model.predict(X_train)"
   ]
  },
  {
   "cell_type": "code",
   "execution_count": 57,
   "metadata": {
    "collapsed": true
   },
   "outputs": [],
   "source": [
    "#Converting predictions into 0 and 1 with a cut-off of 0.5\n",
    "for i in range(78200):\n",
    "    for j in range(46):\n",
    "        if train_preds[i][j]>=0.5:\n",
    "            train_preds[i][j] = 1\n",
    "        else:\n",
    "            train_preds[i][j] = 0"
   ]
  },
  {
   "cell_type": "code",
   "execution_count": 58,
   "metadata": {},
   "outputs": [
    {
     "data": {
      "text/plain": [
       "0.9949872122762148"
      ]
     },
     "execution_count": 58,
     "metadata": {},
     "output_type": "execute_result"
    }
   ],
   "source": [
    "#accuracy of our model on train data\n",
    "accuracy_score(train_preds,y_train)"
   ]
  },
  {
   "cell_type": "code",
   "execution_count": null,
   "metadata": {
    "collapsed": true
   },
   "outputs": [],
   "source": [
    "#Since accuracies on train and test are close, there is no problem of overfitting"
   ]
  }
 ],
 "metadata": {
  "kernelspec": {
   "display_name": "Python 3",
   "language": "python",
   "name": "python3"
  },
  "language_info": {
   "codemirror_mode": {
    "name": "ipython",
    "version": 3
   },
   "file_extension": ".py",
   "mimetype": "text/x-python",
   "name": "python",
   "nbconvert_exporter": "python",
   "pygments_lexer": "ipython3",
   "version": "3.6.3"
  }
 },
 "nbformat": 4,
 "nbformat_minor": 2
}
